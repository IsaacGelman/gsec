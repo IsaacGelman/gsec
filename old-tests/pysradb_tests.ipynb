{
 "cells": [
  {
   "cell_type": "code",
   "execution_count": 1,
   "metadata": {},
   "outputs": [],
   "source": [
    "from pysradb import SRAdb, download_sradb_file\n",
    "from pysradb.filter_attrs import guess_tissue_type, guess_cell_type, guess_strain_type\n",
    "import pandas as pd\n"
   ]
  },
  {
   "cell_type": "markdown",
   "metadata": {},
   "source": [
    "Downloading Database Files (Don't run this more than once, since the file size is 56GB) "
   ]
  },
  {
   "cell_type": "code",
   "execution_count": 2,
   "metadata": {},
   "outputs": [
    {
     "name": "stderr",
     "output_type": "stream",
     "text": [
      "Downloading SRAmetadb.sqlite.gz: 3.38GB [42:14, 1.43MB/s]                                                              \n"
     ]
    },
    {
     "name": "stdout",
     "output_type": "stream",
     "text": [
      "Extracting D:\\genomics\\SRAmetadb.sqlite.gz ...\n"
     ]
    },
    {
     "name": "stderr",
     "output_type": "stream",
     "text": [
      "Extracting SRAmetadb.sqlite.gz: 100%|█████████████████████████████████████████████| 56.8G/56.8G [51:20<00:00, 19.8MB/s]\n"
     ]
    },
    {
     "name": "stdout",
     "output_type": "stream",
     "text": [
      "Done!\n",
      "Metadata associated with D:\\genomics\\SRAmetadb.sqlite:\n",
      "                 name                value\n",
      "0      schema version                  1.0\n",
      "1  creation timestamp  2019-06-27 13:35:00\n"
     ]
    }
   ],
   "source": [
    "download_sradb_file()"
   ]
  },
  {
   "cell_type": "code",
   "execution_count": 2,
   "metadata": {},
   "outputs": [],
   "source": [
    "db = SRAdb('SRAmetadb.sqlite')"
   ]
  },
  {
   "cell_type": "markdown",
   "metadata": {},
   "source": [
    "## Getting Bisulfite-seq experiments"
   ]
  },
  {
   "cell_type": "code",
   "execution_count": 3,
   "metadata": {},
   "outputs": [
    {
     "data": {
      "text/plain": [
       "['metaInfo',\n",
       " 'submission',\n",
       " 'study',\n",
       " 'sample',\n",
       " 'experiment',\n",
       " 'run',\n",
       " 'sra',\n",
       " 'sra_ft',\n",
       " 'sra_ft_content',\n",
       " 'sra_ft_segments',\n",
       " 'sra_ft_segdir',\n",
       " 'col_desc',\n",
       " 'fastq']"
      ]
     },
     "execution_count": 3,
     "metadata": {},
     "output_type": "execute_result"
    }
   ],
   "source": [
    "sra_tables = db.list_tables()\n",
    "sra_tables"
   ]
  },
  {
   "cell_type": "code",
   "execution_count": 4,
   "metadata": {},
   "outputs": [
    {
     "data": {
      "text/plain": [
       "['experiment_ID',\n",
       " 'bamFile',\n",
       " 'fastqFTP',\n",
       " 'experiment_alias',\n",
       " 'experiment_accession',\n",
       " 'broker_name',\n",
       " 'center_name',\n",
       " 'title',\n",
       " 'study_name',\n",
       " 'study_accession',\n",
       " 'design_description',\n",
       " 'sample_name',\n",
       " 'sample_accession',\n",
       " 'sample_member',\n",
       " 'library_name',\n",
       " 'library_strategy',\n",
       " 'library_source',\n",
       " 'library_selection',\n",
       " 'library_layout',\n",
       " 'targeted_loci',\n",
       " 'library_construction_protocol',\n",
       " 'spot_length',\n",
       " 'adapter_spec',\n",
       " 'read_spec',\n",
       " 'platform',\n",
       " 'instrument_model',\n",
       " 'platform_parameters',\n",
       " 'sequence_space',\n",
       " 'base_caller',\n",
       " 'quality_scorer',\n",
       " 'number_of_levels',\n",
       " 'multiplier',\n",
       " 'qtype',\n",
       " 'sra_link',\n",
       " 'experiment_url_link',\n",
       " 'xref_link',\n",
       " 'experiment_entrez_link',\n",
       " 'ddbj_link',\n",
       " 'ena_link',\n",
       " 'experiment_attribute',\n",
       " 'submission_accession',\n",
       " 'sradb_updated']"
      ]
     },
     "execution_count": 4,
     "metadata": {},
     "output_type": "execute_result"
    }
   ],
   "source": [
    "db.list_fields('experiment')"
   ]
  },
  {
   "cell_type": "code",
   "execution_count": 14,
   "metadata": {},
   "outputs": [
    {
     "data": {
      "text/plain": [
       "980     Illumina Genome Analyzer II\n",
       "981     Illumina Genome Analyzer II\n",
       "982     Illumina Genome Analyzer II\n",
       "983     Illumina Genome Analyzer II\n",
       "984     Illumina Genome Analyzer II\n",
       "                   ...             \n",
       "1650            Illumina HiSeq 2000\n",
       "1651            Illumina HiSeq 2000\n",
       "1652            Illumina HiSeq 2000\n",
       "1653            Illumina HiSeq 2000\n",
       "1654            Illumina HiSeq 2000\n",
       "Name: instrument_model, Length: 72, dtype: object"
      ]
     },
     "execution_count": 14,
     "metadata": {},
     "output_type": "execute_result"
    }
   ],
   "source": [
    "a = db.query('SELECT * FROM experiment LIMIT 10000')\n",
    "bi = a[a['library_strategy'] == 'Bisulfite-Seq']\n",
    "bi['instrument_model']\n"
   ]
  },
  {
   "cell_type": "code",
   "execution_count": 6,
   "metadata": {},
   "outputs": [
    {
     "ename": "OperationalError",
     "evalue": "no such module: fts3",
     "output_type": "error",
     "traceback": [
      "\u001b[1;31m---------------------------------------------------------------------------\u001b[0m",
      "\u001b[1;31mOperationalError\u001b[0m                          Traceback (most recent call last)",
      "\u001b[1;32m<ipython-input-6-f7fdd7023f40>\u001b[0m in \u001b[0;36m<module>\u001b[1;34m\u001b[0m\n\u001b[1;32m----> 1\u001b[1;33m \u001b[0mdf\u001b[0m \u001b[1;33m=\u001b[0m \u001b[0mdb\u001b[0m\u001b[1;33m.\u001b[0m\u001b[0msearch_sra\u001b[0m\u001b[1;33m(\u001b[0m\u001b[0msearch_str\u001b[0m\u001b[1;33m=\u001b[0m\u001b[1;34m\"bisulfite seq\"\u001b[0m\u001b[1;33m)\u001b[0m\u001b[1;33m\u001b[0m\u001b[1;33m\u001b[0m\u001b[0m\n\u001b[0m\u001b[0;32m      2\u001b[0m \u001b[0mdf\u001b[0m\u001b[1;33m.\u001b[0m\u001b[0mhead\u001b[0m\u001b[1;33m(\u001b[0m\u001b[1;33m)\u001b[0m\u001b[1;33m\u001b[0m\u001b[1;33m\u001b[0m\u001b[0m\n",
      "\u001b[1;32m~\\Anaconda3\\envs\\genomics\\lib\\site-packages\\pysradb\\sradb.py\u001b[0m in \u001b[0;36msearch_sra\u001b[1;34m(self, search_str, out_type)\u001b[0m\n\u001b[0;32m    315\u001b[0m         \u001b[0msql\u001b[0m \u001b[1;33m=\u001b[0m \u001b[1;34m\"SELECT DISTINCT \"\u001b[0m \u001b[1;33m+\u001b[0m \u001b[0mselect_type_sql\u001b[0m \u001b[1;33m+\u001b[0m\u001b[0;31m\\\u001b[0m\u001b[1;33m\u001b[0m\u001b[1;33m\u001b[0m\u001b[0m\n\u001b[0;32m    316\u001b[0m               \u001b[1;34m\" FROM sra_ft WHERE sra_ft MATCH '\"\u001b[0m \u001b[1;33m+\u001b[0m \u001b[0msearch_str\u001b[0m \u001b[1;33m+\u001b[0m \u001b[1;34m\"';\"\u001b[0m\u001b[1;33m\u001b[0m\u001b[1;33m\u001b[0m\u001b[0m\n\u001b[1;32m--> 317\u001b[1;33m         \u001b[0mdf\u001b[0m \u001b[1;33m=\u001b[0m \u001b[0mself\u001b[0m\u001b[1;33m.\u001b[0m\u001b[0mquery\u001b[0m\u001b[1;33m(\u001b[0m\u001b[0msql\u001b[0m\u001b[1;33m)\u001b[0m\u001b[1;33m\u001b[0m\u001b[1;33m\u001b[0m\u001b[0m\n\u001b[0m\u001b[0;32m    318\u001b[0m         \u001b[1;32mif\u001b[0m \u001b[0mlen\u001b[0m\u001b[1;33m(\u001b[0m\u001b[0mdf\u001b[0m\u001b[1;33m.\u001b[0m\u001b[0mindex\u001b[0m\u001b[1;33m)\u001b[0m \u001b[1;33m>\u001b[0m \u001b[1;36m0\u001b[0m\u001b[1;33m:\u001b[0m\u001b[1;33m\u001b[0m\u001b[1;33m\u001b[0m\u001b[0m\n\u001b[0;32m    319\u001b[0m             \u001b[1;32mreturn\u001b[0m \u001b[0morder_dataframe\u001b[0m\u001b[1;33m(\u001b[0m\u001b[0mdf\u001b[0m\u001b[1;33m,\u001b[0m \u001b[0mout_type\u001b[0m\u001b[1;33m)\u001b[0m\u001b[1;33m\u001b[0m\u001b[1;33m\u001b[0m\u001b[0m\n",
      "\u001b[1;32m~\\Anaconda3\\envs\\genomics\\lib\\site-packages\\pysradb\\basedb.py\u001b[0m in \u001b[0;36mquery\u001b[1;34m(self, sql_query)\u001b[0m\n\u001b[0;32m     98\u001b[0m \u001b[1;33m\u001b[0m\u001b[0m\n\u001b[0;32m     99\u001b[0m         \"\"\"\n\u001b[1;32m--> 100\u001b[1;33m         \u001b[0mresults\u001b[0m \u001b[1;33m=\u001b[0m \u001b[0mself\u001b[0m\u001b[1;33m.\u001b[0m\u001b[0mcursor\u001b[0m\u001b[1;33m.\u001b[0m\u001b[0mexecute\u001b[0m\u001b[1;33m(\u001b[0m\u001b[0msql_query\u001b[0m\u001b[1;33m)\u001b[0m\u001b[1;33m.\u001b[0m\u001b[0mfetchall\u001b[0m\u001b[1;33m(\u001b[0m\u001b[1;33m)\u001b[0m\u001b[1;33m\u001b[0m\u001b[1;33m\u001b[0m\u001b[0m\n\u001b[0m\u001b[0;32m    101\u001b[0m         \u001b[0mcolumn_names\u001b[0m \u001b[1;33m=\u001b[0m \u001b[0mlist\u001b[0m\u001b[1;33m(\u001b[0m\u001b[0mmap\u001b[0m\u001b[1;33m(\u001b[0m\u001b[1;32mlambda\u001b[0m \u001b[0mx\u001b[0m\u001b[1;33m:\u001b[0m \u001b[0mx\u001b[0m\u001b[1;33m[\u001b[0m\u001b[1;36m0\u001b[0m\u001b[1;33m]\u001b[0m\u001b[1;33m,\u001b[0m \u001b[0mself\u001b[0m\u001b[1;33m.\u001b[0m\u001b[0mcursor\u001b[0m\u001b[1;33m.\u001b[0m\u001b[0mdescription\u001b[0m\u001b[1;33m)\u001b[0m\u001b[1;33m)\u001b[0m\u001b[1;33m\u001b[0m\u001b[1;33m\u001b[0m\u001b[0m\n\u001b[0;32m    102\u001b[0m         \u001b[0mresults\u001b[0m \u001b[1;33m=\u001b[0m \u001b[1;33m[\u001b[0m\u001b[0mdict\u001b[0m\u001b[1;33m(\u001b[0m\u001b[0mzip\u001b[0m\u001b[1;33m(\u001b[0m\u001b[0mcolumn_names\u001b[0m\u001b[1;33m,\u001b[0m \u001b[0mresult\u001b[0m\u001b[1;33m)\u001b[0m\u001b[1;33m)\u001b[0m \u001b[1;32mfor\u001b[0m \u001b[0mresult\u001b[0m \u001b[1;32min\u001b[0m \u001b[0mresults\u001b[0m\u001b[1;33m]\u001b[0m\u001b[1;33m\u001b[0m\u001b[1;33m\u001b[0m\u001b[0m\n",
      "\u001b[1;31mOperationalError\u001b[0m: no such module: fts3"
     ]
    }
   ],
   "source": [
    "def get_project(name: str) -> pd.DataFrame:\n",
    "    "
   ]
  }
 ],
 "metadata": {
  "kernelspec": {
   "display_name": "Python 3",
   "language": "python",
   "name": "python3"
  },
  "language_info": {
   "codemirror_mode": {
    "name": "ipython",
    "version": 3
   },
   "file_extension": ".py",
   "mimetype": "text/x-python",
   "name": "python",
   "nbconvert_exporter": "python",
   "pygments_lexer": "ipython3",
   "version": "3.7.6"
  }
 },
 "nbformat": 4,
 "nbformat_minor": 2
}
