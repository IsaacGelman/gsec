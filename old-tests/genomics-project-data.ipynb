{
 "cells": [
  {
   "cell_type": "code",
   "execution_count": 4,
   "metadata": {
    "scrolled": true
   },
   "outputs": [
    {
     "name": "stdout",
     "output_type": "stream",
     "text": [
      "Requirement already satisfied: biopython in /home/natalieabreu/anaconda3/envs/caispp/lib/python3.7/site-packages (1.76)\n",
      "Requirement already satisfied: numpy in /home/natalieabreu/anaconda3/envs/caispp/lib/python3.7/site-packages (from biopython) (1.17.2)\n",
      "Note: you may need to restart the kernel to use updated packages.\n"
     ]
    }
   ],
   "source": [
    "pip install biopython"
   ]
  },
  {
   "cell_type": "code",
   "execution_count": 5,
   "metadata": {
    "scrolled": true
   },
   "outputs": [],
   "source": [
    "from Bio import SeqIO\n",
    "# for grabbing all of the records -- only use one here because of amount of data\n",
    "# records = SeqIO.parse(\"GLOR07_1964-1980_WGBS_R1.fastq\", \"fastq\")\n",
    "# print(records)"
   ]
  },
  {
   "cell_type": "code",
   "execution_count": 6,
   "metadata": {},
   "outputs": [],
   "source": [
    "# uncomment this block if you have the actual file downloaded\n",
    "\n",
    "# first_record = next(SeqIO.parse(\"GLOR07_1964-1980_WGBS_R1.fastq\", \"fastq\"))\n",
    "# print(first_record)\n",
    "# first_record.seq\n",
    "# for l in first_record.seq:\n",
    "#     print(l, end=\"\")\n"
   ]
  },
  {
   "cell_type": "code",
   "execution_count": 7,
   "metadata": {},
   "outputs": [
    {
     "data": {
      "text/plain": [
       "True"
      ]
     },
     "execution_count": 7,
     "metadata": {},
     "output_type": "execute_result"
    }
   ],
   "source": [
    "# made-up seq object so i don't have to keep the actual file on my computer, for real data use above\n",
    "# should be in same format as actual data\n",
    "from Bio.Seq import Seq\n",
    "from Bio.Alphabet import single_letter_alphabet\n",
    "ex_seq = Seq(\"AGTACACTGGT\", single_letter_alphabet)\n",
    "ex_seq[0:3] == 'AGT'"
   ]
  },
  {
   "cell_type": "code",
   "execution_count": 8,
   "metadata": {},
   "outputs": [],
   "source": [
    "# for counting kmer frequency\n",
    "\n",
    "def find_kmers(seq, k):\n",
    "    kmer_freqs = {}\n",
    "    # what to do if k is longer than sequence length = ?\n",
    "    # returns empty dictionary as of now\n",
    "    if len(seq) < k or k <=0:\n",
    "        return kmer_freqs\n",
    "    for i in range(len(seq)-k+1):\n",
    "        if str(seq[i:i+k]) not in kmer_freqs:\n",
    "            kmer_freqs[str(seq[i:i+k])] = 1\n",
    "        else:\n",
    "            kmer_freqs[str(seq[i:i+k])] += 1\n",
    "    return kmer_freqs\n",
    "            \n",
    "\n",
    "# Notes:\n",
    "# can specify Alphabet -- default SingleLetterAlphabet but can change to dna alphabet (generic_dna)\n",
    "# or other alphabets if at all helpful\n",
    "\n",
    "\n",
    "# also: right now the frequency dictionary of each seq will only contain the kmers present in that seq\n",
    "# ie will not mark 0 for those not present\n",
    "# can write a separate function to add those in later (or change this function),\n",
    "# but i felt like generating every permutation every time was wasteful"
   ]
  },
  {
   "cell_type": "code",
   "execution_count": 9,
   "metadata": {},
   "outputs": [
    {
     "name": "stdout",
     "output_type": "stream",
     "text": [
      "{'A': 3, 'G': 3, 'T': 3, 'C': 2}\n",
      "{'AG': 1, 'GT': 2, 'TA': 1, 'AC': 2, 'CA': 1, 'CT': 1, 'TG': 1, 'GG': 1}\n",
      "{'AGT': 1, 'GTA': 1, 'TAC': 1, 'ACA': 1, 'CAC': 1, 'ACT': 1, 'CTG': 1, 'TGG': 1, 'GGT': 1}\n",
      "{}\n"
     ]
    }
   ],
   "source": [
    "print(find_kmers(ex_seq,1))\n",
    "print(find_kmers(ex_seq,2))\n",
    "print(find_kmers(ex_seq,3))\n",
    "print(find_kmers(ex_seq,500))"
   ]
  }
 ],
 "metadata": {
  "kernelspec": {
   "display_name": "Python 3",
   "language": "python",
   "name": "python3"
  },
  "language_info": {
   "codemirror_mode": {
    "name": "ipython",
    "version": 3
   },
   "file_extension": ".py",
   "mimetype": "text/x-python",
   "name": "python",
   "nbconvert_exporter": "python",
   "pygments_lexer": "ipython3",
   "version": "3.7.4"
  }
 },
 "nbformat": 4,
 "nbformat_minor": 2
}
